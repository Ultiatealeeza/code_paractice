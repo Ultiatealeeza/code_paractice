{
  "nbformat": 4,
  "nbformat_minor": 0,
  "metadata": {
    "colab": {
      "provenance": []
    },
    "kernelspec": {
      "name": "python3",
      "display_name": "Python 3"
    },
    "language_info": {
      "name": "python"
    }
  },
  "cells": [
    {
      "cell_type": "code",
      "execution_count": 1,
      "metadata": {
        "colab": {
          "base_uri": "https://localhost:8080/"
        },
        "id": "4unZO_UVkrv0",
        "outputId": "bc2c18c9-4858-4657-8911-95e11e2927df"
      },
      "outputs": [
        {
          "output_type": "stream",
          "name": "stdout",
          "text": [
            "Requirement already satisfied: numpy in /usr/local/lib/python3.10/dist-packages (1.25.2)\n"
          ]
        }
      ],
      "source": [
        "!pip install numpy"
      ]
    },
    {
      "cell_type": "code",
      "source": [
        "import numpy as np"
      ],
      "metadata": {
        "id": "gXMzh2WApZNj"
      },
      "execution_count": 2,
      "outputs": []
    },
    {
      "cell_type": "code",
      "source": [
        "arr = np.array([1,2,3,4,5,5,6])\n",
        "print(arr)\n",
        "print(type(arr))"
      ],
      "metadata": {
        "colab": {
          "base_uri": "https://localhost:8080/"
        },
        "id": "vhxYlzJcpcae",
        "outputId": "a5988615-b46f-478b-bda6-83117bfb04f0"
      },
      "execution_count": 3,
      "outputs": [
        {
          "output_type": "stream",
          "name": "stdout",
          "text": [
            "[1 2 3 4 5 5 6]\n",
            "<class 'numpy.ndarray'>\n"
          ]
        }
      ]
    },
    {
      "cell_type": "code",
      "source": [
        "print(np.__version__)"
      ],
      "metadata": {
        "colab": {
          "base_uri": "https://localhost:8080/"
        },
        "id": "IS6CHoxBprp-",
        "outputId": "30a59306-d2e6-4926-fa83-7cfa2fd07c3b"
      },
      "execution_count": 4,
      "outputs": [
        {
          "output_type": "stream",
          "name": "stdout",
          "text": [
            "1.25.2\n"
          ]
        }
      ]
    },
    {
      "cell_type": "markdown",
      "source": [
        "To create an ndarray, we can pass a list, tuple or any array-like object into the array() method, and it will be converted into an ndarray:"
      ],
      "metadata": {
        "id": "xfe1n_p3s2q2"
      }
    },
    {
      "cell_type": "markdown",
      "source": [
        "# 0-D Arrays\n",
        "0-D arrays, or Scalars, are the elements in an array. Each value in an array is a 0-D array."
      ],
      "metadata": {
        "id": "3iRo4lTktDp2"
      }
    },
    {
      "cell_type": "code",
      "source": [
        "arr0 = np.array(25)\n",
        "print(arr0)\n",
        "print(arr0.ndim)"
      ],
      "metadata": {
        "colab": {
          "base_uri": "https://localhost:8080/"
        },
        "id": "gldLYfYcprWI",
        "outputId": "c8aa0638-73b9-4ac5-bdc3-194883360046"
      },
      "execution_count": 35,
      "outputs": [
        {
          "output_type": "stream",
          "name": "stdout",
          "text": [
            "25\n",
            "0\n"
          ]
        }
      ]
    },
    {
      "cell_type": "markdown",
      "source": [
        "# 1-D Arrays\n",
        "An array that has 0-D arrays as its elements is called uni-dimensional or 1-D array.\n",
        "\n",
        "These are the most common and basic arrays."
      ],
      "metadata": {
        "id": "hSD06eMGtYrc"
      }
    },
    {
      "cell_type": "code",
      "source": [
        "arr1 = np.array([1,2,3,4,5,6])\n",
        "print(arr1)\n",
        "print(arr1.ndim)"
      ],
      "metadata": {
        "colab": {
          "base_uri": "https://localhost:8080/"
        },
        "id": "HcwHDY5xtPzt",
        "outputId": "7978fead-6f03-4b02-dee6-e66d72a2fdb6"
      },
      "execution_count": 6,
      "outputs": [
        {
          "output_type": "stream",
          "name": "stdout",
          "text": [
            "[1 2 3 4 5 6]\n",
            "1\n"
          ]
        }
      ]
    },
    {
      "cell_type": "markdown",
      "source": [
        "# 2-D Arrays\n",
        "An array that has 1-D arrays as its elements is called a 2-D array.\n",
        "\n",
        "***These are often used to represent matrix or 2nd order tensors.***\n",
        "\n",
        "***NumPy has a whole sub module dedicated towards matrix operations called numpy.mat***"
      ],
      "metadata": {
        "id": "RhJRhqXRtzT2"
      }
    },
    {
      "cell_type": "code",
      "source": [
        "arr2 = np.array([[1,2,3],[1,3,3]])\n",
        "print(arr2)\n",
        "print(arr2.ndim)\n",
        "\n",
        "print(arr2[0] + arr2[1])"
      ],
      "metadata": {
        "colab": {
          "base_uri": "https://localhost:8080/"
        },
        "id": "_KC8kipAtm4c",
        "outputId": "335098ef-88c3-4158-f65b-2c6fe5276423"
      },
      "execution_count": 33,
      "outputs": [
        {
          "output_type": "stream",
          "name": "stdout",
          "text": [
            "[[1 2 3]\n",
            " [1 3 3]]\n",
            "2\n",
            "[2 5 6]\n"
          ]
        }
      ]
    },
    {
      "cell_type": "markdown",
      "source": [
        "# 3-D arrays\n",
        "An array that has 2-D arrays (matrices) as its elements is called 3-D array.\n",
        "\n",
        "***These are often used to represent a 3rd order tensor.***"
      ],
      "metadata": {
        "id": "bL-s6lTHu9P0"
      }
    },
    {
      "cell_type": "code",
      "source": [
        "arr3 = np.array([[[12,3,4],[1,4,6],[3,4,5]],[[1,2,3],[4,5,6],[7,8,9]]])\n",
        "print(arr3)\n",
        "print(arr3.ndim)\n",
        "\n",
        "print(arr3[0] + arr3[1])"
      ],
      "metadata": {
        "colab": {
          "base_uri": "https://localhost:8080/"
        },
        "id": "ekv1H9lkutl7",
        "outputId": "0e84c1b3-bbcf-458c-e11f-8a43b806dd13"
      },
      "execution_count": 32,
      "outputs": [
        {
          "output_type": "stream",
          "name": "stdout",
          "text": [
            "[[[12  3  4]\n",
            "  [ 1  4  6]\n",
            "  [ 3  4  5]]\n",
            "\n",
            " [[ 1  2  3]\n",
            "  [ 4  5  6]\n",
            "  [ 7  8  9]]]\n",
            "3\n",
            "[[13  5  7]\n",
            " [ 5  9 12]\n",
            " [10 12 14]]\n"
          ]
        }
      ]
    },
    {
      "cell_type": "markdown",
      "source": [
        "Higher Dimensional Arrays\n",
        "An array can have any number of dimensions.\n",
        "***When the array is created, you can define the number of dimensions by using the ndmin argument.***"
      ],
      "metadata": {
        "id": "HDLzcsrqw35b"
      }
    },
    {
      "cell_type": "code",
      "source": [
        "arr_mul = np.array([1,2,3,4,5], ndmin=5)\n",
        "print(arr_mul)\n",
        "\n",
        "print('nuber of dimension : ', arr_mul.ndim)"
      ],
      "metadata": {
        "colab": {
          "base_uri": "https://localhost:8080/"
        },
        "id": "y0HGs6Q0vRdr",
        "outputId": "d6500a10-5b9f-48b2-977e-0eb1a3f894ba"
      },
      "execution_count": 9,
      "outputs": [
        {
          "output_type": "stream",
          "name": "stdout",
          "text": [
            "[[[[[1 2 3 4 5]]]]]\n",
            "nuber of dimension :  5\n"
          ]
        }
      ]
    },
    {
      "cell_type": "markdown",
      "source": [
        "***In this array the innermost dimension (5th dim) has 4 elements, the 4th dim has 1 element that is the vector, the 3rd dim has 1 element that is the matrix with the vector, the 2nd dim has 1 element that is 3D array and 1st dim has 1 element that is a 4D array.***\n"
      ],
      "metadata": {
        "id": "3toLDM55ye2K"
      }
    },
    {
      "cell_type": "markdown",
      "source": [
        "# NumPy Array Indexing"
      ],
      "metadata": {
        "id": "s-sWES2Ay9lS"
      }
    },
    {
      "cell_type": "code",
      "source": [
        "print(arr[2] + arr[3])\n"
      ],
      "metadata": {
        "colab": {
          "base_uri": "https://localhost:8080/"
        },
        "id": "F62XKamFprXT",
        "outputId": "8cdc6086-0a16-40d8-8000-860e9446ec33"
      },
      "execution_count": 10,
      "outputs": [
        {
          "output_type": "stream",
          "name": "stdout",
          "text": [
            "7\n"
          ]
        }
      ]
    },
    {
      "cell_type": "markdown",
      "source": [
        "# Access 2-D Arrays\n",
        "To access elements from 2-D arrays we can use comma separated integers representing the dimension and the index of the element.\n",
        "\n",
        "Think of 2-D arrays like a table with rows and columns, where the dimension represents the row and the index represents the column."
      ],
      "metadata": {
        "id": "mhNUfKoO0F_h"
      }
    },
    {
      "cell_type": "code",
      "source": [
        "arr2 = np.array([[1,2,3],[5,4,7]])\n",
        "print(arr2)\n",
        "print(arr2[1,2])\n",
        "print(arr2[1,-2])"
      ],
      "metadata": {
        "id": "12vsjt4Tz3M_",
        "colab": {
          "base_uri": "https://localhost:8080/"
        },
        "outputId": "744963af-49b7-407e-8702-a5426aff4a37"
      },
      "execution_count": 20,
      "outputs": [
        {
          "output_type": "stream",
          "name": "stdout",
          "text": [
            "[[1 2 3]\n",
            " [5 4 7]]\n",
            "7\n",
            "4\n"
          ]
        }
      ]
    },
    {
      "cell_type": "markdown",
      "source": [
        "# Access 3-D Arrays\n",
        "To access elements from 3-D arrays we can use comma separated integers representing the dimensions and the index of the element."
      ],
      "metadata": {
        "id": "qw4hA5XS35z_"
      }
    },
    {
      "cell_type": "code",
      "source": [
        "import numpy as np\n",
        "\n",
        "arr3_index = np.array([[[1, 2, 3], [4, 5, 6]], [[7, 8, 9], [10, 11, 12]]])\n",
        "\n",
        "print(arr3_index[0, 1, 2])"
      ],
      "metadata": {
        "colab": {
          "base_uri": "https://localhost:8080/"
        },
        "id": "HXdoMenD3-Wl",
        "outputId": "d68a75e3-ef49-4f59-cff9-58547fbc8566"
      },
      "execution_count": 15,
      "outputs": [
        {
          "output_type": "stream",
          "name": "stdout",
          "text": [
            "6\n"
          ]
        }
      ]
    },
    {
      "cell_type": "markdown",
      "source": [
        "Example Explained\n",
        "arr[0, 1, 2] prints the value 6.\n",
        "\n",
        "And this is why:\n",
        "\n",
        "The first number represents the first dimension, which contains two arrays:\n",
        "\n",
        "[[1, 2, 3], [4, 5, 6]]\n",
        "and:\n",
        "\n",
        "[[7, 8, 9], [10, 11, 12]]\n",
        "\n",
        "Since we selected 0, we are left with the first array:\n",
        "\n",
        "[[1, 2, 3], [4, 5, 6]]\n",
        "\n",
        "The second number represents the second dimension, which also contains two\n",
        "arrays:\n",
        "\n",
        "[1, 2, 3]\n",
        "\n",
        "and:\n",
        "\n",
        "[4, 5, 6]\n",
        "\n",
        "Since we selected 1, we are left with the second array:\n",
        "\n",
        "[4, 5, 6]\n",
        "\n",
        "The third number represents the third dimension, which contains three values:\n",
        "\n",
        "4\n",
        "5\n",
        "6\n",
        "\n",
        "Since we selected 2, we end up with the third value:\n",
        "\n",
        "6"
      ],
      "metadata": {
        "id": "wemqI_dM5qD-"
      }
    },
    {
      "cell_type": "code",
      "source": [
        "print(arr3_index)\n",
        "print(arr3_index[1,-2])"
      ],
      "metadata": {
        "colab": {
          "base_uri": "https://localhost:8080/"
        },
        "id": "vISRDJWZ5q8L",
        "outputId": "c56f7311-a940-49d4-f40a-3185c4eb2394"
      },
      "execution_count": 19,
      "outputs": [
        {
          "output_type": "stream",
          "name": "stdout",
          "text": [
            "[[[ 1  2  3]\n",
            "  [ 4  5  6]]\n",
            "\n",
            " [[ 7  8  9]\n",
            "  [10 11 12]]]\n",
            "[7 8 9]\n"
          ]
        }
      ]
    },
    {
      "cell_type": "markdown",
      "source": [
        "# Slicing arrays\n",
        "Slicing in python means taking elements from one given index to another given index.\n",
        "\n",
        "We pass slice instead of index like this: [start:end].\n",
        "\n",
        "We can also define the step, like this: [start:end:step].\n",
        "\n",
        "If we don't pass start its considered 0\n",
        "\n",
        "If we don't pass end its considered length of array in that dimension\n",
        "\n",
        " If we don't pass step its considered 1"
      ],
      "metadata": {
        "id": "PXCayy_xCpmR"
      }
    },
    {
      "cell_type": "code",
      "source": [
        "arr_s = np.array([1, 2, 3, 4, 5, 6, 7])\n",
        "\n",
        "print(arr_s[1:5])\n",
        "print(arr_s[1:])\n",
        "print(arr_s[:3])\n"
      ],
      "metadata": {
        "colab": {
          "base_uri": "https://localhost:8080/"
        },
        "id": "wOZHegHq6dHj",
        "outputId": "2a15263d-756d-4e70-a640-9089c2f253df"
      },
      "execution_count": 38,
      "outputs": [
        {
          "output_type": "stream",
          "name": "stdout",
          "text": [
            "[2 3 4 5]\n",
            "[2 3 4 5 6 7]\n",
            "[1 2 3]\n"
          ]
        }
      ]
    },
    {
      "cell_type": "markdown",
      "source": [
        "Note: The result includes the start index, but excludes the end index."
      ],
      "metadata": {
        "id": "KU6L8-VRDwWI"
      }
    },
    {
      "cell_type": "markdown",
      "source": [
        "# Negative Slicing\n",
        "Use the minus operator to refer to an index from the end:\n",
        "\n",
        "Example\n",
        "Slice from the index 3 from the end to index 1 from the end:"
      ],
      "metadata": {
        "id": "RNco3rzmELhu"
      }
    },
    {
      "cell_type": "code",
      "source": [
        "print(arr_s[-3:-1])  #not include -1"
      ],
      "metadata": {
        "colab": {
          "base_uri": "https://localhost:8080/"
        },
        "id": "VgaBtguwDxN3",
        "outputId": "9decc92a-d361-4271-f841-9fb1651c0fa6"
      },
      "execution_count": 40,
      "outputs": [
        {
          "output_type": "stream",
          "name": "stdout",
          "text": [
            "[5 6]\n"
          ]
        }
      ]
    },
    {
      "cell_type": "markdown",
      "source": [
        "# STEP\n",
        "Use the step value to determine the step of the slicing:\n",
        "\n",
        "Example\n",
        "Return every other element from index 1 to index 5:"
      ],
      "metadata": {
        "id": "czal-jBnFBq-"
      }
    },
    {
      "cell_type": "code",
      "source": [
        "arr_st = np.array([1, 2, 3, 4, 5, 6, 7])\n",
        "\n",
        "print(arr_st[1:5:2])\n",
        "# Return every other element from the entire array:\n",
        "print(arr_st[::2])\n",
        "\n",
        "print(arr_st[::3])\n",
        "\n",
        "\n"
      ],
      "metadata": {
        "colab": {
          "base_uri": "https://localhost:8080/"
        },
        "id": "l_MIqfVzEpuY",
        "outputId": "aaf53444-bd85-4e7f-b39f-0dd18b64127f"
      },
      "execution_count": 53,
      "outputs": [
        {
          "output_type": "stream",
          "name": "stdout",
          "text": [
            "[2 4]\n",
            "[1 3 5 7]\n",
            "[1 4 7]\n"
          ]
        }
      ]
    },
    {
      "cell_type": "markdown",
      "source": [
        "# Slicing 2-D Arrays\n",
        "Example\n",
        "From the second element, slice elements from index 1 to index 4 (not included):"
      ],
      "metadata": {
        "id": "NG8yr-GEFZIa"
      }
    },
    {
      "cell_type": "code",
      "source": [
        "arr = np.array([[1, 2, 3, 4, 5], [6, 7, 8, 9, 10]])\n",
        "\n",
        "print(arr[1,1:4]) # 1 show column 1\n",
        "\n",
        "print(arr[0,1:4]) #0 shows col 1\n",
        "# here just 1 row"
      ],
      "metadata": {
        "colab": {
          "base_uri": "https://localhost:8080/"
        },
        "id": "8lRBUL3rEXA2",
        "outputId": "e19af915-f0fa-4c44-ff05-1e6451310f6e"
      },
      "execution_count": 48,
      "outputs": [
        {
          "output_type": "stream",
          "name": "stdout",
          "text": [
            "[7 8 9]\n",
            "[2 3 4]\n"
          ]
        }
      ]
    },
    {
      "cell_type": "markdown",
      "source": [
        "From both elements, return index 2:"
      ],
      "metadata": {
        "id": "xKZKAJVeGiLn"
      }
    },
    {
      "cell_type": "code",
      "source": [
        "print(arr[0:2])"
      ],
      "metadata": {
        "colab": {
          "base_uri": "https://localhost:8080/"
        },
        "id": "YSLI1gNKFq5Q",
        "outputId": "a9be651e-0e3a-41f3-d8d1-cddfb7a4147d"
      },
      "execution_count": 50,
      "outputs": [
        {
          "output_type": "stream",
          "name": "stdout",
          "text": [
            "[[ 1  2  3  4  5]\n",
            " [ 6  7  8  9 10]]\n"
          ]
        }
      ]
    },
    {
      "cell_type": "code",
      "source": [
        "print(arr)\n"
      ],
      "metadata": {
        "colab": {
          "base_uri": "https://localhost:8080/"
        },
        "id": "cA9Ti7crGsqU",
        "outputId": "52002a01-0188-4905-af08-b31b520d4624"
      },
      "execution_count": 54,
      "outputs": [
        {
          "output_type": "stream",
          "name": "stdout",
          "text": [
            "[[ 1  2  3  4  5]\n",
            " [ 6  7  8  9 10]]\n"
          ]
        }
      ]
    },
    {
      "cell_type": "code",
      "source": [
        "print(arr[0,1:4])  # from 0 indexed column"
      ],
      "metadata": {
        "colab": {
          "base_uri": "https://localhost:8080/"
        },
        "id": "SOHUosG2e9G_",
        "outputId": "20426502-624e-4121-f595-da0b17ff5ba6"
      },
      "execution_count": 56,
      "outputs": [
        {
          "output_type": "stream",
          "name": "stdout",
          "text": [
            "[2 3 4]\n"
          ]
        }
      ]
    },
    {
      "cell_type": "code",
      "source": [
        "print(arr[1,1:4])   # from 1 indexed column"
      ],
      "metadata": {
        "colab": {
          "base_uri": "https://localhost:8080/"
        },
        "id": "yYLx98Jchv9O",
        "outputId": "8bcc224e-47bd-4ee2-991f-cadb62ff959d"
      },
      "execution_count": 61,
      "outputs": [
        {
          "output_type": "stream",
          "name": "stdout",
          "text": [
            "[7 8 9]\n"
          ]
        }
      ]
    },
    {
      "cell_type": "code",
      "source": [
        "print(arr[0:2, 2])"
      ],
      "metadata": {
        "colab": {
          "base_uri": "https://localhost:8080/"
        },
        "id": "NVYQSoP8h4qc",
        "outputId": "d4352d3f-e3a6-4d3f-c633-ad902601e4ab"
      },
      "execution_count": 62,
      "outputs": [
        {
          "output_type": "stream",
          "name": "stdout",
          "text": [
            "[3 8]\n"
          ]
        }
      ]
    },
    {
      "cell_type": "code",
      "source": [
        "print(arr[0:2, 2:5])"
      ],
      "metadata": {
        "colab": {
          "base_uri": "https://localhost:8080/"
        },
        "id": "E1g3S0stkbeb",
        "outputId": "8f687fc1-02d2-4c20-d34b-7b7f1dc56338"
      },
      "execution_count": 65,
      "outputs": [
        {
          "output_type": "stream",
          "name": "stdout",
          "text": [
            "[[ 3  4  5]\n",
            " [ 8  9 10]]\n"
          ]
        }
      ]
    },
    {
      "cell_type": "code",
      "source": [],
      "metadata": {
        "id": "BAhoGP7EklvT"
      },
      "execution_count": null,
      "outputs": []
    }
  ]
}