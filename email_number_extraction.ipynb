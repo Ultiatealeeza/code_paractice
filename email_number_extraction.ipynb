{
  "nbformat": 4,
  "nbformat_minor": 0,
  "metadata": {
    "colab": {
      "provenance": []
    },
    "kernelspec": {
      "name": "python3",
      "display_name": "Python 3"
    },
    "language_info": {
      "name": "python"
    }
  },
  "cells": [
    {
      "cell_type": "code",
      "source": [
        "!pip install docx2txt\n"
      ],
      "metadata": {
        "colab": {
          "base_uri": "https://localhost:8080/"
        },
        "id": "kOxG_ive2oP2",
        "outputId": "90843342-73e5-4833-cd70-d2db4133ccf5"
      },
      "execution_count": null,
      "outputs": [
        {
          "output_type": "stream",
          "name": "stdout",
          "text": [
            "Collecting docx2txt\n",
            "  Downloading docx2txt-0.8.tar.gz (2.8 kB)\n",
            "  Preparing metadata (setup.py) ... \u001b[?25l\u001b[?25hdone\n",
            "Building wheels for collected packages: docx2txt\n",
            "  Building wheel for docx2txt (setup.py) ... \u001b[?25l\u001b[?25hdone\n",
            "  Created wheel for docx2txt: filename=docx2txt-0.8-py3-none-any.whl size=3960 sha256=44868069ac9cb609a1e965623a3ac0e719cc43228de8f7e394a132a171696863\n",
            "  Stored in directory: /root/.cache/pip/wheels/22/58/cf/093d0a6c3ecfdfc5f6ddd5524043b88e59a9a199cb02352966\n",
            "Successfully built docx2txt\n",
            "Installing collected packages: docx2txt\n",
            "Successfully installed docx2txt-0.8\n"
          ]
        }
      ]
    },
    {
      "cell_type": "code",
      "source": [
        "!pip install docx"
      ],
      "metadata": {
        "colab": {
          "base_uri": "https://localhost:8080/"
        },
        "id": "1u8cZ49b2tKO",
        "outputId": "38112c29-59bb-45d2-eb19-b239bae69c5d"
      },
      "execution_count": null,
      "outputs": [
        {
          "output_type": "stream",
          "name": "stdout",
          "text": [
            "Collecting docx\n",
            "  Downloading docx-0.2.4.tar.gz (54 kB)\n",
            "\u001b[2K     \u001b[90m━━━━━━━━━━━━━━━━━━━━━━━━━━━━━━━━━━━━━━━━\u001b[0m \u001b[32m54.9/54.9 kB\u001b[0m \u001b[31m650.2 kB/s\u001b[0m eta \u001b[36m0:00:00\u001b[0m\n",
            "\u001b[?25h  Preparing metadata (setup.py) ... \u001b[?25l\u001b[?25hdone\n",
            "Requirement already satisfied: lxml in /usr/local/lib/python3.10/dist-packages (from docx) (4.9.4)\n",
            "Requirement already satisfied: Pillow>=2.0 in /usr/local/lib/python3.10/dist-packages (from docx) (9.4.0)\n",
            "Building wheels for collected packages: docx\n",
            "  Building wheel for docx (setup.py) ... \u001b[?25l\u001b[?25hdone\n",
            "  Created wheel for docx: filename=docx-0.2.4-py3-none-any.whl size=53895 sha256=d09fb87789786528b2443d46c12b2a02e1dcadc4cbce978104ae0eeb9a68a708\n",
            "  Stored in directory: /root/.cache/pip/wheels/81/f5/1d/e09ba2c1907a43a4146d1189ae4733ca1a3bfe27ee39507767\n",
            "Successfully built docx\n",
            "Installing collected packages: docx\n",
            "Successfully installed docx-0.2.4\n"
          ]
        }
      ]
    },
    {
      "cell_type": "code",
      "source": [
        "!pip install python-docx\n"
      ],
      "metadata": {
        "colab": {
          "base_uri": "https://localhost:8080/"
        },
        "id": "OOSJwTWl2tNQ",
        "outputId": "2add09e7-fdd0-4b8b-8a18-d03114cf984e"
      },
      "execution_count": null,
      "outputs": [
        {
          "output_type": "stream",
          "name": "stdout",
          "text": [
            "Collecting python-docx\n",
            "  Downloading python_docx-1.1.0-py3-none-any.whl (239 kB)\n",
            "\u001b[2K     \u001b[90m━━━━━━━━━━━━━━━━━━━━━━━━━━━━━━━━━━━━━━━━\u001b[0m \u001b[32m239.6/239.6 kB\u001b[0m \u001b[31m4.0 MB/s\u001b[0m eta \u001b[36m0:00:00\u001b[0m\n",
            "\u001b[?25hRequirement already satisfied: lxml>=3.1.0 in /usr/local/lib/python3.10/dist-packages (from python-docx) (4.9.4)\n",
            "Requirement already satisfied: typing-extensions in /usr/local/lib/python3.10/dist-packages (from python-docx) (4.10.0)\n",
            "Installing collected packages: python-docx\n",
            "Successfully installed python-docx-1.1.0\n"
          ]
        }
      ]
    },
    {
      "cell_type": "code",
      "source": [
        "!pip install pdfminer.six"
      ],
      "metadata": {
        "colab": {
          "base_uri": "https://localhost:8080/"
        },
        "id": "AD7-qTd94Nax",
        "outputId": "b5aa00d5-ac5a-4bf6-8f5d-125175aa3283"
      },
      "execution_count": null,
      "outputs": [
        {
          "output_type": "stream",
          "name": "stdout",
          "text": [
            "Collecting pdfminer.six\n",
            "  Downloading pdfminer.six-20231228-py3-none-any.whl (5.6 MB)\n",
            "\u001b[2K     \u001b[90m━━━━━━━━━━━━━━━━━━━━━━━━━━━━━━━━━━━━━━━━\u001b[0m \u001b[32m5.6/5.6 MB\u001b[0m \u001b[31m14.3 MB/s\u001b[0m eta \u001b[36m0:00:00\u001b[0m\n",
            "\u001b[?25hRequirement already satisfied: charset-normalizer>=2.0.0 in /usr/local/lib/python3.10/dist-packages (from pdfminer.six) (3.3.2)\n",
            "Requirement already satisfied: cryptography>=36.0.0 in /usr/local/lib/python3.10/dist-packages (from pdfminer.six) (42.0.5)\n",
            "Requirement already satisfied: cffi>=1.12 in /usr/local/lib/python3.10/dist-packages (from cryptography>=36.0.0->pdfminer.six) (1.16.0)\n",
            "Requirement already satisfied: pycparser in /usr/local/lib/python3.10/dist-packages (from cffi>=1.12->cryptography>=36.0.0->pdfminer.six) (2.21)\n",
            "Installing collected packages: pdfminer.six\n",
            "Successfully installed pdfminer.six-20231228\n"
          ]
        }
      ]
    },
    {
      "cell_type": "code",
      "source": [
        "import docx2txt\n",
        "import os\n",
        "from docx import Document\n",
        "\n"
      ],
      "metadata": {
        "id": "_AVHpXe92tQr"
      },
      "execution_count": null,
      "outputs": []
    },
    {
      "cell_type": "code",
      "source": [
        "import nltk\n",
        "nltk.download('stopwords')"
      ],
      "metadata": {
        "colab": {
          "base_uri": "https://localhost:8080/"
        },
        "id": "LJLehF4C1yE4",
        "outputId": "600b1eae-2934-44e2-87b7-d5bf5a8cfc93"
      },
      "execution_count": null,
      "outputs": [
        {
          "output_type": "stream",
          "name": "stderr",
          "text": [
            "[nltk_data] Downloading package stopwords to /root/nltk_data...\n",
            "[nltk_data]   Package stopwords is already up-to-date!\n"
          ]
        },
        {
          "output_type": "execute_result",
          "data": {
            "text/plain": [
              "True"
            ]
          },
          "metadata": {},
          "execution_count": 8
        }
      ]
    },
    {
      "cell_type": "code",
      "source": [
        "!pip install pdfplumber"
      ],
      "metadata": {
        "colab": {
          "base_uri": "https://localhost:8080/"
        },
        "id": "dcQlZl0p7hUF",
        "outputId": "b336e70c-1509-45c2-e6c2-3f0b75e3d197"
      },
      "execution_count": null,
      "outputs": [
        {
          "output_type": "stream",
          "name": "stdout",
          "text": [
            "Collecting pdfplumber\n",
            "  Downloading pdfplumber-0.11.0-py3-none-any.whl (56 kB)\n",
            "\u001b[?25l     \u001b[90m━━━━━━━━━━━━━━━━━━━━━━━━━━━━━━━━━━━━━━━━\u001b[0m \u001b[32m0.0/56.4 kB\u001b[0m \u001b[31m?\u001b[0m eta \u001b[36m-:--:--\u001b[0m\r\u001b[2K     \u001b[90m━━━━━━━━━━━━━━━━━━━━━━━━━━━━━━━━━━━━━━━━\u001b[0m \u001b[32m56.4/56.4 kB\u001b[0m \u001b[31m1.7 MB/s\u001b[0m eta \u001b[36m0:00:00\u001b[0m\n",
            "\u001b[?25hRequirement already satisfied: pdfminer.six==20231228 in /usr/local/lib/python3.10/dist-packages (from pdfplumber) (20231228)\n",
            "Requirement already satisfied: Pillow>=9.1 in /usr/local/lib/python3.10/dist-packages (from pdfplumber) (9.4.0)\n",
            "Collecting pypdfium2>=4.18.0 (from pdfplumber)\n",
            "  Downloading pypdfium2-4.28.0-py3-none-manylinux_2_17_x86_64.manylinux2014_x86_64.whl (2.8 MB)\n",
            "\u001b[2K     \u001b[90m━━━━━━━━━━━━━━━━━━━━━━━━━━━━━━━━━━━━━━━━\u001b[0m \u001b[32m2.8/2.8 MB\u001b[0m \u001b[31m30.7 MB/s\u001b[0m eta \u001b[36m0:00:00\u001b[0m\n",
            "\u001b[?25hRequirement already satisfied: charset-normalizer>=2.0.0 in /usr/local/lib/python3.10/dist-packages (from pdfminer.six==20231228->pdfplumber) (3.3.2)\n",
            "Requirement already satisfied: cryptography>=36.0.0 in /usr/local/lib/python3.10/dist-packages (from pdfminer.six==20231228->pdfplumber) (42.0.5)\n",
            "Requirement already satisfied: cffi>=1.12 in /usr/local/lib/python3.10/dist-packages (from cryptography>=36.0.0->pdfminer.six==20231228->pdfplumber) (1.16.0)\n",
            "Requirement already satisfied: pycparser in /usr/local/lib/python3.10/dist-packages (from cffi>=1.12->cryptography>=36.0.0->pdfminer.six==20231228->pdfplumber) (2.21)\n",
            "Installing collected packages: pypdfium2, pdfplumber\n",
            "Successfully installed pdfplumber-0.11.0 pypdfium2-4.28.0\n"
          ]
        }
      ]
    },
    {
      "cell_type": "code",
      "execution_count": null,
      "metadata": {
        "colab": {
          "base_uri": "https://localhost:8080/"
        },
        "id": "UNlWA_Nc1tGs",
        "outputId": "50626f9c-9048-4bb1-e11b-f8fb4788508d"
      },
      "outputs": [
        {
          "output_type": "stream",
          "name": "stdout",
          "text": [
            "text =   Mariana Anderson\n",
            "M a r k e t i n g M a n a g e r\n",
            "Lorem ipsum dolor sit amet, consectetur adipiscing elit. Nullam pharetra in lorem at laoreet. Donec\n",
            "hendrerit libero eget est tempor, quis tempus arcu elementum. In elementum elit at dui tristique\n",
            "feugiat. Mauris convallis, mi at mattis malesuada, neque nulla volutpat dolor, hendrerit faucibus\n",
            "eros nibh ut nunc.\n",
            "Contact Experience\n",
            "Phone\n",
            "2019 - 2022\n",
            "123-456-7890\n",
            "Company Name l 123 Anywhere St., Any City\n",
            "Job position here\n",
            "Email\n",
            "hello@reallygreatsite.com Lorem ipsum dolor sit amet, consectetur adipiscing elit. Nullam pharetra in lorem at\n",
            "laoreet. Donec hendrerit libero eget est tempor, quis tempus arcu elementum. In\n",
            "Address elementum elit at dui tristique feugiat. Mauris convallis, mi at mattis malesuada, neque\n",
            "123 Anywhere St., Any City nulla volutpat dolor, hendrerit faucibus eros nibh ut nunc. Proin luctus urna id nunc\n",
            "sagittis dignissim. Sed in libero sed libero dictum dapibus. Vivamus fermentum est eget\n",
            "lorem aliquet, vel tempus metus dignissim. Donec risus arcu, tristique et sollicitudin\n",
            "blandit, iaculis ut nisl. Integer rutrum ultricies fringilla.\n",
            "Education\n",
            "2017 - 2019\n",
            "2008\n",
            "Company Name l 123 Anywhere St., Any City\n",
            "Enter Your Degree\n",
            "Job position here\n",
            "University/College\n",
            "Lorem ipsum dolor sit amet, consectetur adipiscing elit. Nullam pharetra in lorem at\n",
            "2008 laoreet. Donec hendrerit libero eget est tempor, quis tempus arcu elementum. In\n",
            "Enter Your Degree elementum elit at dui tristique feugiat. Mauris convallis, mi at mattis malesuada, neque\n",
            "University/College nulla volutpat dolor, hendrerit faucibus eros nibh ut nunc. Proin luctus urna id nunc\n",
            "sagittis dignissim. Sed in libero sed libero dictum dapibus. Vivamus fermentum est eget\n",
            "lorem aliquet, vel tempus metus dignissim. Donec risus arcu, tristique et sollicitudin\n",
            "blandit, iaculis ut nisl. Integer rutrum ultricies fringilla.\n",
            "Expertise\n",
            "2015 - 2017\n",
            "UI/UX\n",
            "Company Name l 123 Anywhere St., Any City\n",
            "Visual Design Job position here\n",
            "Lorem ipsum dolor sit amet, consectetur adipiscing elit. Nullam pharetra in lorem at\n",
            "Wireframes\n",
            "laoreet. Donec hendrerit libero eget est tempor, quis tempus arcu elementum. In\n",
            "Storyboards elementum elit at dui tristique feugiat. Mauris convallis, mi at mattis malesuada, neque\n",
            "nulla volutpat dolor, hendrerit faucibus eros nibh ut nunc. Proin luctus urna id nunc\n",
            "User Flows sagittis dignissim. Sed in libero sed libero dictum dapibus. Vivamus fermentum est eget\n",
            "lorem aliquet, vel tempus metus dignissim. Donec risus arcu, tristique et sollicitudin\n",
            "Process Flows blandit, iaculis ut nisl. Integer rutrum ultricies fringilla.\n",
            "Language Reference\n",
            "English Name Surname Name Surname\n",
            "Spanish Job position, Company Name Job position, Company Name\n",
            "Phone: 123-456-7890 Phone: 123-456-7890\n",
            "Email : hello@reallygreatsite.com Email : hello@reallygreatsite.com\n",
            "Extracted emails: ['hello@reallygreatsite.com', 'hello@reallygreatsite.com', 'hello@reallygreatsite.com']\n",
            "Extracted phone numbers: ['123-456-7890', '123-456-7890', '123-456-7890']\n"
          ]
        }
      ],
      "source": [
        "import re\n",
        "import os\n",
        "import pdfplumber\n",
        "def extract_emails_phones(filepath):\n",
        "  emails = []\n",
        "  phones = []\n",
        "\n",
        "  # Regular expressions for email and phone number patterns\n",
        "  email_regex = r\"[\\w]+@[\\w]+\\.[\\w]+\"\n",
        "\n",
        "  phone_regex = r\"\\+\\d{12}|\\(\\d{3}\\) \\d{3}-\\d{4}|\\d{3} \\d{3} \\d{4}|\\d{4}-\\d{3}-\\d{3}|\\d{5} \\d{3} \\d{3}|\\d{3}-\\d{3}-\\d{4}\"\n",
        "  # if filepath.endswith(\".txt\"):\n",
        "  #   with open(filepath, 'r') as f:\n",
        "  #     text = f.read()\n",
        "  # if filepath.endswith(\".docx\") or filepath.endswith(\".doc\"):\n",
        "  text = \" \"\n",
        "  with pdfplumber.open(filepath) as file:\n",
        "    for fl in file.pages:\n",
        "      # print('fl = > ',fl)\n",
        "      text += fl.extract_text()\n",
        "  print('text = ',text)\n",
        "  # Extract emails and phone numbers using regex\n",
        "  emails = re.findall(email_regex, text)\n",
        "  phones = re.findall(phone_regex, text)\n",
        "\n",
        "  return emails, phones\n",
        "\n",
        "# Extract emails and phones\n",
        "filepath = '/content/Black White Minimalist CV Resume.pdf'\n",
        "emails, phones = extract_emails_phones(filepath)\n",
        "\n",
        "if emails or phones:\n",
        "  print(\"Extracted emails:\", emails)\n",
        "  print(\"Extracted phone numbers:\", phones)\n",
        "else:\n",
        "  print(\"No emails or phone numbers found in the file.\")\n"
      ]
    },
    {
      "cell_type": "code",
      "source": [
        "import re\n",
        "import pdfplumber\n",
        "\n",
        "def extract_emails_phones(filepath):\n",
        "    email = None\n",
        "    phone = None\n",
        "\n",
        "    # Regular expressions for email and phone number patterns\n",
        "    email_regex = r\"[\\w]+@[\\w]+\\.[\\w]+\"\n",
        "    phone_regex = r\"\\+\\d{12}|\\(\\d{3}\\) \\d{3}-\\d{4}|\\d{3} \\d{3} \\d{4}|\\d{4}-\\d{3}-\\d{3}|\\d{5} \\d{3} \\d{3}|\\d{3}-\\d{3}-\\d{4}\"\n",
        "\n",
        "    text = \"\"\n",
        "    with pdfplumber.open(filepath) as file:\n",
        "        for page in file.pages:\n",
        "            text += page.extract_text()\n",
        "\n",
        "            # Extract only the first email and phone number found\n",
        "            if not email:\n",
        "                email_match = re.search(email_regex, text)\n",
        "                if email_match:\n",
        "                    email = email_match.group()\n",
        "            if not phone:\n",
        "                phone_match = re.search(phone_regex, text)\n",
        "                if phone_match:\n",
        "                    phone = phone_match.group()\n",
        "\n",
        "            # If both email and phone number are found, break the loop\n",
        "            if email and phone:\n",
        "                break\n",
        "    print('text = ',text)\n",
        "    return email, phone\n",
        "\n",
        "# Extract one email and phone number\n",
        "filepath = '/content/Black White Minimalist CV Resume.pdf'\n",
        "email, phone = extract_emails_phones(filepath)\n",
        "\n",
        "if email:\n",
        "    print(\"Extracted email:\", email)\n",
        "else:\n",
        "    print(\"No email found in the file.\")\n",
        "\n",
        "if phone:\n",
        "    print(\"Extracted phone number:\", phone)\n",
        "else:\n",
        "    print(\"No phone number found in the file.\")\n"
      ],
      "metadata": {
        "colab": {
          "base_uri": "https://localhost:8080/"
        },
        "id": "p-H2FEdP2oI6",
        "outputId": "b0ca97de-a93f-46d0-c02a-fc743a59a943"
      },
      "execution_count": null,
      "outputs": [
        {
          "output_type": "stream",
          "name": "stdout",
          "text": [
            "text =  Mariana Anderson\n",
            "M a r k e t i n g M a n a g e r\n",
            "Lorem ipsum dolor sit amet, consectetur adipiscing elit. Nullam pharetra in lorem at laoreet. Donec\n",
            "hendrerit libero eget est tempor, quis tempus arcu elementum. In elementum elit at dui tristique\n",
            "feugiat. Mauris convallis, mi at mattis malesuada, neque nulla volutpat dolor, hendrerit faucibus\n",
            "eros nibh ut nunc.\n",
            "Contact Experience\n",
            "Phone\n",
            "2019 - 2022\n",
            "123-456-7890\n",
            "Company Name l 123 Anywhere St., Any City\n",
            "Job position here\n",
            "Email\n",
            "hello@reallygreatsite.com Lorem ipsum dolor sit amet, consectetur adipiscing elit. Nullam pharetra in lorem at\n",
            "laoreet. Donec hendrerit libero eget est tempor, quis tempus arcu elementum. In\n",
            "Address elementum elit at dui tristique feugiat. Mauris convallis, mi at mattis malesuada, neque\n",
            "123 Anywhere St., Any City nulla volutpat dolor, hendrerit faucibus eros nibh ut nunc. Proin luctus urna id nunc\n",
            "sagittis dignissim. Sed in libero sed libero dictum dapibus. Vivamus fermentum est eget\n",
            "lorem aliquet, vel tempus metus dignissim. Donec risus arcu, tristique et sollicitudin\n",
            "blandit, iaculis ut nisl. Integer rutrum ultricies fringilla.\n",
            "Education\n",
            "2017 - 2019\n",
            "2008\n",
            "Company Name l 123 Anywhere St., Any City\n",
            "Enter Your Degree\n",
            "Job position here\n",
            "University/College\n",
            "Lorem ipsum dolor sit amet, consectetur adipiscing elit. Nullam pharetra in lorem at\n",
            "2008 laoreet. Donec hendrerit libero eget est tempor, quis tempus arcu elementum. In\n",
            "Enter Your Degree elementum elit at dui tristique feugiat. Mauris convallis, mi at mattis malesuada, neque\n",
            "University/College nulla volutpat dolor, hendrerit faucibus eros nibh ut nunc. Proin luctus urna id nunc\n",
            "sagittis dignissim. Sed in libero sed libero dictum dapibus. Vivamus fermentum est eget\n",
            "lorem aliquet, vel tempus metus dignissim. Donec risus arcu, tristique et sollicitudin\n",
            "blandit, iaculis ut nisl. Integer rutrum ultricies fringilla.\n",
            "Expertise\n",
            "2015 - 2017\n",
            "UI/UX\n",
            "Company Name l 123 Anywhere St., Any City\n",
            "Visual Design Job position here\n",
            "Lorem ipsum dolor sit amet, consectetur adipiscing elit. Nullam pharetra in lorem at\n",
            "Wireframes\n",
            "laoreet. Donec hendrerit libero eget est tempor, quis tempus arcu elementum. In\n",
            "Storyboards elementum elit at dui tristique feugiat. Mauris convallis, mi at mattis malesuada, neque\n",
            "nulla volutpat dolor, hendrerit faucibus eros nibh ut nunc. Proin luctus urna id nunc\n",
            "User Flows sagittis dignissim. Sed in libero sed libero dictum dapibus. Vivamus fermentum est eget\n",
            "lorem aliquet, vel tempus metus dignissim. Donec risus arcu, tristique et sollicitudin\n",
            "Process Flows blandit, iaculis ut nisl. Integer rutrum ultricies fringilla.\n",
            "Language Reference\n",
            "English Name Surname Name Surname\n",
            "Spanish Job position, Company Name Job position, Company Name\n",
            "Phone: 123-456-7890 Phone: 123-456-7890\n",
            "Email : hello@reallygreatsite.com Email : hello@reallygreatsite.com\n",
            "Extracted email: hello@reallygreatsite.com\n",
            "Extracted phone number: 123-456-7890\n"
          ]
        }
      ]
    },
    {
      "cell_type": "code",
      "source": [],
      "metadata": {
        "id": "5vlPRHUm2oMg"
      },
      "execution_count": null,
      "outputs": []
    },
    {
      "cell_type": "markdown",
      "source": [
        "\n",
        "\n",
        "\n",
        "```\n",
        "import re\n",
        "import os\n",
        "import pdfplumber\n",
        "```\n",
        "\n",
        "\n",
        "import re: This imports the regular expression module, which is used for pattern matching.\n",
        "\n",
        "import os: This imports the operating system module, but it's not used in your provided code snippet.\n",
        "\n",
        "import pdfplumber: This imports the pdfplumber module, which is used for extracting text from PDF files.\n",
        "\n",
        "\n",
        "\n",
        "```\n",
        "def extract_emails_phones(filepath):\n",
        "This line defines a function named extract_emails_phones, which takes a filepath argument.\n",
        "python\n",
        "Copy code\n",
        "  emails = []\n",
        "  phones = []\n",
        "```\n",
        "\n",
        "\n",
        "These lines initialize two empty lists, emails and phones, which will store the extracted email addresses and phone numbers.\n",
        "\n",
        "\n",
        "  \n",
        "\n",
        "```\n",
        "# Regular expressions for email and phone number patterns\n",
        "  email_regex = r\"[\\w]+@[\\w]+\\.[\\w]+\"\n",
        "  phone_regex = r\"\\+\\d{12}|\\(\\d{3}\\) \\d{3}-\\d{4}|\\d{3} \\d{3} \\d{4}|\\d{4}-\\d{3}-\\d{3}|\\d{5} \\d{3} \\d{3}|\\d{3}-\\d{3}-\\d{4}\"\n",
        "```\n",
        "\n",
        "\n",
        "These lines define regular expressions for matching email addresses (email_regex) and phone numbers (phone_regex). Regular expressions are used to describe search patterns in strings.\n",
        "\n",
        "\n",
        "\n",
        "\n",
        "```\n",
        " text = \" \"\n",
        "```\n",
        "\n",
        "\n",
        "\n",
        "This line initializes an empty string named text. This string will accumulate the text extracted from the PDF file.\n",
        "\n",
        "\n",
        "\n",
        "```\n",
        " with pdfplumber.open(filepath) as file:\n",
        "    for fl in file.pages:\n",
        "```\n",
        "\n",
        "\n",
        "These lines open the PDF file specified by filepath using pdfplumber, and then iterate over each page (fl) in the PDF file.\n",
        "\n",
        "    '''\n",
        "\n",
        "      text += fl.extract_text()\n",
        "    '''\n",
        "This line extracts text from the current page (fl) of the PDF file and appends it to the text string.\n",
        "    '''\n",
        "    # Extract emails and phone numbers using regex\n",
        "    emails = re.findall(email_regex, text)\n",
        "    phones = re.findall(phone_regex, text)\n",
        "    \n",
        "  These lines use the findall function from the re module to search for all occurrences of email addresses and phone numbers in the text string based on the defined regular expressions (email_regex and phone_regex).\n",
        "    '''\n",
        "    return emails, phones\n",
        "    '''\n",
        "This line returns a tuple containing the lists of extracted email addresses and phone numbers.\n",
        "    '''\n",
        "    # Extract emails and phones\n",
        "    filepath = '/content/Black White Minimalist CV Resume.pdf'\n",
        "    emails, phones = extract_emails_phones(filepath)\n",
        "    '''\n",
        "These lines call the extract_emails_phones function with the specified filepath and store the returned email addresses and phone numbers in the emails and phones variables, respectively.\n",
        "       \n",
        "\n",
        "```\n",
        " if emails or phones:\n",
        "      print(\"Extracted emails:\", emails)\n",
        "      print(\"Extracted phone numbers:\", phones)\n",
        "    else:\n",
        "      print(\"No emails or phone numbers found in the file.\")\n",
        "```\n",
        "\n",
        "\n",
        "  \n",
        "This block checks if any email addresses or phone numbers were extracted. If so, it prints them out. Otherwise, it prints a message indicating that no email addresses or phone numbers were found in the PDF file."
      ],
      "metadata": {
        "id": "qotM701mmP4V"
      }
    },
    {
      "cell_type": "code",
      "source": [],
      "metadata": {
        "id": "rqLDEpi-mQ7i"
      },
      "execution_count": null,
      "outputs": []
    }
  ]
}